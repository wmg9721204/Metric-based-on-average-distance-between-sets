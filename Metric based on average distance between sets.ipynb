{
 "cells": [
  {
   "cell_type": "code",
   "execution_count": 162,
   "id": "f16d89af",
   "metadata": {},
   "outputs": [],
   "source": [
    "\n",
    "from sklearn.metrics import pairwise_distances\n",
    "\n",
    "# def avg_dist_normalize(X,Y):\n",
    "#     dXX = pairwise_distances(X,X).mean()\n",
    "#     dYY = pairwise_distances(Y,Y).mean()    \n",
    "#     dXY = pairwise_distances(X,Y).mean()\n",
    "#     return dXY/np.sqrt(dXX*dYY)\n",
    "\n",
    "def dh(X,Y):\n",
    "    pd_XY = pairwise_distances(X,Y)\n",
    "    dh_XY = max(pd_XY.min(axis = 0).max(), pd_XY.min(axis = 1).max())\n",
    "    return dh_XY\n",
    "\n",
    "def avg_dist_normalize2(X,Y):\n",
    "    pd_XY = pairwise_distances(X,Y)\n",
    "    if dh(X,Y)<1e-10:\n",
    "        return 0\n",
    "    else:\n",
    "        dXY = ((pd_XY)**2).sum()\n",
    "        dXY_metric = ((1/len(X)+1/len(Y))*(1/(len(X)+len(Y)))*dXY)\n",
    "        return dXY_metric"
   ]
  },
  {
   "cell_type": "code",
   "execution_count": 176,
   "id": "e766fa55",
   "metadata": {},
   "outputs": [
    {
     "name": "stdout",
     "output_type": "stream",
     "text": [
      "1.1380831109695173 1.0\n",
      "0.8612851785723494 0\n",
      "Dimensional additivity passed.\n"
     ]
    }
   ],
   "source": [
    "import numpy as np\n",
    "\n",
    "n = 200\n",
    "thetas = [2*np.pi/n*k for k in range(n)]\n",
    "X = np.array([[np.cos(theta), np.sin(theta)] for theta in thetas])\n",
    "Y = 0.001*np.array([[np.cos(theta), np.sin(theta)] for theta in thetas])\n",
    "# Y = np.random.random((1000,2))\n",
    "X = np.random.random((1000,2))-1/2\n",
    "Y = 2*X\n",
    "\n",
    "## sanity check\n",
    "print(avg_dist_normalize(X,Y), avg_dist_normalize(X,X))\n",
    "print(avg_dist_normalize2(X,Y), avg_dist_normalize2(X,X))\n",
    "\n",
    "X0 = X[:,0].reshape(-1,1)\n",
    "X1 = X[:,1].reshape(-1,1)\n",
    "\n",
    "Y0 = Y[:,0].reshape(-1,1)\n",
    "Y1 = Y[:,1].reshape(-1,1)\n",
    "\n",
    "## test for dimensional additivity\n",
    "\n",
    "feat_wise_sum = avg_dist_normalize2(X0, Y0)+avg_dist_normalize2(X1, Y1)\n",
    "direct_compute = avg_dist_normalize2(X,Y)\n",
    "\n",
    "if abs(feat_wise_sum-direct_compute)<1e-10:\n",
    "    print('Dimensional additivity passed.')\n",
    "else:\n",
    "    print('Dimensional additivity failed.')\n"
   ]
  },
  {
   "cell_type": "code",
   "execution_count": null,
   "id": "07305a9b",
   "metadata": {},
   "outputs": [],
   "source": []
  },
  {
   "cell_type": "code",
   "execution_count": null,
   "id": "731db0f8",
   "metadata": {},
   "outputs": [],
   "source": []
  },
  {
   "cell_type": "code",
   "execution_count": 181,
   "id": "48ec0ac0",
   "metadata": {},
   "outputs": [
    {
     "data": {
      "text/plain": [
       "True"
      ]
     },
     "execution_count": 181,
     "metadata": {},
     "output_type": "execute_result"
    }
   ],
   "source": [
    "x = 1.99\n",
    "\n",
    "x-np.pi+np.pi==x"
   ]
  },
  {
   "cell_type": "code",
   "execution_count": 165,
   "id": "34e9b058",
   "metadata": {},
   "outputs": [
    {
     "data": {
      "text/plain": [
       "1.0000010000000001"
      ]
     },
     "execution_count": 165,
     "metadata": {},
     "output_type": "execute_result"
    }
   ],
   "source": [
    "(X0==X0).sum()"
   ]
  },
  {
   "cell_type": "code",
   "execution_count": 166,
   "id": "a352f99e",
   "metadata": {},
   "outputs": [
    {
     "data": {
      "text/plain": [
       "1.0000010000000001"
      ]
     },
     "execution_count": 166,
     "metadata": {},
     "output_type": "execute_result"
    }
   ],
   "source": []
  },
  {
   "cell_type": "code",
   "execution_count": 168,
   "id": "0089bd5d",
   "metadata": {},
   "outputs": [
    {
     "data": {
      "text/plain": [
       "3.325"
      ]
     },
     "execution_count": 168,
     "metadata": {},
     "output_type": "execute_result"
    }
   ],
   "source": [
    "2.5*1.33"
   ]
  },
  {
   "cell_type": "code",
   "execution_count": null,
   "id": "2ea3641b",
   "metadata": {},
   "outputs": [],
   "source": []
  }
 ],
 "metadata": {
  "kernelspec": {
   "display_name": "Python 3",
   "language": "python",
   "name": "python3"
  },
  "language_info": {
   "codemirror_mode": {
    "name": "ipython",
    "version": 3
   },
   "file_extension": ".py",
   "mimetype": "text/x-python",
   "name": "python",
   "nbconvert_exporter": "python",
   "pygments_lexer": "ipython3",
   "version": "3.8.8"
  }
 },
 "nbformat": 4,
 "nbformat_minor": 5
}
